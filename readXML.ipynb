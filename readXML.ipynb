{
 "cells": [
  {
   "cell_type": "code",
   "execution_count": 28,
   "metadata": {},
   "outputs": [
    {
     "name": "stdout",
     "output_type": "stream",
     "text": [
      "Print out the attrib of the root:\n",
      "\n",
      "cordinates: 216 359 316 464\n",
      "cordinates: 77 326 177 431\n",
      "cordinates: 540 353 640 458\n",
      "cordinates: 405 350 513 457\n",
      "cordinates: 160 72 245 177\n",
      "cordinates: 5 335 90 440\n",
      "cordinates: 540 39 640 149\n",
      "cordinates: 383 1 504 113\n",
      "cordinates: 9 82 108 168\n",
      "cordinates: 68 212 165 346\n",
      "cordinates: 171 181 264 282\n"
     ]
    }
   ],
   "source": [
    "import xml.etree.ElementTree\n",
    "\n",
    "class Reading(object):\n",
    "    \"\"\"__init__() functions as the class constructor\"\"\"\n",
    "    def __init__(self, xmin=None, ymin=None, xmax=None, ymax=None, difficult=None, truncated=None):\n",
    "        self.xmin = xmin\n",
    "        self.xmax = xmax\n",
    "        self.ymin = ymin\n",
    "        self.ymax = ymax\n",
    "        self.difficult = difficult\n",
    "        self.truncated = truncated\n",
    "\n",
    "tree = xml.etree.ElementTree.parse('C://Users//yash//Desktop//dataset-master//dataset-master//Annotations//BloodImage_00000.xml')\n",
    "root = tree.getroot()\n",
    "len_data = int(len(tree.findall('.//object//'))/9)\n",
    "list_reading = [Reading() for i in range(len_data)]\n",
    "\n",
    "count = 0\n",
    "print(\"Print out the attrib of the root:\\n\")\n",
    "for objs in tree.findall('.//object//'):\n",
    "    index_of_reading = int(count/9)\n",
    "    if count%9 == 2:\n",
    "        list_reading[index_of_reading].truncated = int(objs.text)\n",
    "    if count%9 == 3:\n",
    "        list_reading[index_of_reading].difficult = int(objs.text)\n",
    "    if count%9 == 5:\n",
    "        list_reading[index_of_reading].xmin = int(objs.text)\n",
    "    if count%9 == 6:\n",
    "        list_reading[index_of_reading].ymin = int(objs.text)\n",
    "    if count%9 == 7:\n",
    "        list_reading[index_of_reading].xmax = int(objs.text)\n",
    "    if count%9 == 8:\n",
    "        list_reading[index_of_reading].ymax = int(objs.text)\n",
    "    count+=1\n",
    "\n",
    "for i in list_reading:\n",
    "    print(\"cordinates:\",i.xmin,i.ymin,i.xmax,i.ymax)\n"
   ]
  },
  {
   "cell_type": "code",
   "execution_count": null,
   "metadata": {},
   "outputs": [],
   "source": []
  },
  {
   "cell_type": "code",
   "execution_count": null,
   "metadata": {},
   "outputs": [],
   "source": []
  }
 ],
 "metadata": {
  "kernelspec": {
   "display_name": "Python 3",
   "language": "python",
   "name": "python3"
  },
  "language_info": {
   "codemirror_mode": {
    "name": "ipython",
    "version": 3
   },
   "file_extension": ".py",
   "mimetype": "text/x-python",
   "name": "python",
   "nbconvert_exporter": "python",
   "pygments_lexer": "ipython3",
   "version": "3.7.1"
  }
 },
 "nbformat": 4,
 "nbformat_minor": 2
}
