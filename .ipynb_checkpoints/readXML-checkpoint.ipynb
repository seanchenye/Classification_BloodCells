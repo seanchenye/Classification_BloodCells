{
 "cells": [
  {
   "cell_type": "code",
   "execution_count": 15,
   "metadata": {},
   "outputs": [
    {
     "name": "stdout",
     "output_type": "stream",
     "text": [
      "Print out the attrib of the root:\n",
      "\n",
      "name {}\n",
      "pose {}\n",
      "truncated {}\n",
      "difficult {}\n",
      "bndbox {}\n"
     ]
    }
   ],
   "source": [
    "import xml.etree.ElementTree\n",
    "tree = xml.etree.ElementTree.parse('C://Users//yash//Desktop//dataset-master//dataset-master//Annotations//BloodImage_00000.xml')\n",
    "root = tree.getroot()\n",
    "\n",
    "print(\"Print out the attrib of the root:\\n\")\n",
    "for child in root.find():\n",
    "        print(child.tag, child.attrib)\n"
   ]
  },
  {
   "cell_type": "code",
   "execution_count": null,
   "metadata": {},
   "outputs": [],
   "source": []
  },
  {
   "cell_type": "code",
   "execution_count": null,
   "metadata": {},
   "outputs": [],
   "source": []
  }
 ],
 "metadata": {
  "kernelspec": {
   "display_name": "Python 3",
   "language": "python",
   "name": "python3"
  },
  "language_info": {
   "codemirror_mode": {
    "name": "ipython",
    "version": 3
   },
   "file_extension": ".py",
   "mimetype": "text/x-python",
   "name": "python",
   "nbconvert_exporter": "python",
   "pygments_lexer": "ipython3",
   "version": "3.7.1"
  }
 },
 "nbformat": 4,
 "nbformat_minor": 2
}
