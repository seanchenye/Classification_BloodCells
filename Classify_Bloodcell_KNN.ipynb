{
 "cells": [
  {
   "cell_type": "code",
   "execution_count": 71,
   "metadata": {},
   "outputs": [],
   "source": [
    "import numpy as np\n",
    "import cv2\n",
    "import glob\n",
    "import xml.etree.ElementTree\n",
    "import matplotlib.pyplot as plt\n"
   ]
  },
  {
   "cell_type": "code",
   "execution_count": 85,
   "metadata": {},
   "outputs": [
    {
     "name": "stdout",
     "output_type": "stream",
     "text": [
      "dataset-master\\Annotations\\BloodImage_00338.xml\n",
      "dataset-master\\Annotations\\BloodImage_00343.xml\n",
      "216\n"
     ]
    }
   ],
   "source": [
    "\n",
    "class Reading(object):\n",
    "    \"\"\"__init__() functions as the class constructor\"\"\"\n",
    "    def __init__(self, xmin=None, ymin=None, xmax=None, ymax=None, difficult=None, truncated=None):\n",
    "        self.xmin = xmin\n",
    "        self.xmax = xmax\n",
    "        self.ymin = ymin\n",
    "        self.ymax = ymax\n",
    "        self.difficult = difficult\n",
    "        self.truncated = truncated\n",
    "\n",
    "docs = glob.glob('dataset-master\\\\Annotations\\\\' + '*.xml')      \n",
    "\n",
    "list_reading_arr = []\n",
    "\n",
    "for doc in docs:\n",
    "    #tree = xml.etree.ElementTree.parse('//dataset-master//Annotations//BloodImage_00000.xml')\n",
    "    tree = xml.etree.ElementTree.parse(doc)\n",
    "    root = tree.getroot()\n",
    "    len_data = int(len(tree.findall('.//object//'))/9)\n",
    "    list_reading = [Reading() for i in range(len_data)]\n",
    "    \n",
    "    count = 0\n",
    "    #print(\"Print out the attrib of the root:\\n\")\n",
    "    for objs in tree.findall('.//object//'):\n",
    "        index_of_reading = int(count/9)\n",
    "        if count%9 == 2:\n",
    "            list_reading[index_of_reading].truncated = int(objs.text)\n",
    "        if count%9 == 3:\n",
    "            list_reading[index_of_reading].difficult = int(objs.text)\n",
    "        if count%9 == 5:\n",
    "            list_reading[index_of_reading].xmin = int(objs.text)\n",
    "        if count%9 == 6:\n",
    "            list_reading[index_of_reading].ymin = int(objs.text)\n",
    "        if count%9 == 7:\n",
    "            list_reading[index_of_reading].xmax = int(objs.text)\n",
    "        if count%9 == 8:\n",
    "            list_reading[index_of_reading].ymax = int(objs.text)\n",
    "        count+=1\n",
    "    list_reading_arr.append(list_reading)\n",
    "    for i in list_reading:\n",
    "        if i.xmax == i.xmin or i.ymax == i.ymin:\n",
    "            print(doc)\n",
    "            list_reading.remove(i)\n",
    "        #print(\"cordinates:\",i.xmin,i.ymin,i.xmax,i.ymax)\n",
    "\n",
    "print(list_reading_arr[0][0].xmin)\n",
    "\n",
    "\n",
    "def crop_and_resize(img, listRead, size):\n",
    "    w, h = size\n",
    "    \n",
    "    img_arr =[]\n",
    "    \n",
    "    for read in listRead:\n",
    "            \n",
    "        xmin, ymin, xmax, ymax = (read.xmin,read.ymin,read.xmax,read.ymax)\n",
    "        #print([xmin, ymin, xmax, ymax])\n",
    "        img_crop = img[ymin:ymax,xmin:xmax]\n",
    "        img_resized = cv2.resize(img_crop,(w, h), interpolation = cv2.INTER_CUBIC)\n",
    "        img_arr.append(img_resized)\n",
    "        \n",
    "    return img_arr\n",
    "\n",
    "def label_generator(read):\n",
    "    return read.truncated + read.difficult*2 + 1\n",
    "    "
   ]
  },
  {
   "cell_type": "code",
   "execution_count": 82,
   "metadata": {},
   "outputs": [],
   "source": [
    "path = 'dataset-master\\\\JPEGImages\\\\'\n",
    "images = glob.glob(path + '*.jpg')\n",
    "\n",
    "RBC_arr = []\n",
    "label_arr = []\n",
    "#read images and make each into an array\n",
    "i=0\n",
    "for img in images:\n",
    "    RBC_this = cv2.imread(img)\n",
    "    RBC_this_arr = crop_and_resize(RBC_this, list_reading_arr[i], (40,40))\n",
    "    j = 0\n",
    "    for RBC in RBC_this_arr:\n",
    "        label = label_generator(list_reading_arr[i][j])\n",
    "        RBC = np.reshape(RBC, -1)\n",
    "        RBC_arr.append(RBC)\n",
    "        label_arr.append(label)\n",
    "        j+=1\n",
    "        \n",
    "    i+=1\n",
    "    if(i==len(list_reading_arr)):\n",
    "        break\n",
    "    \n",
    "RBC_arr = np.asarray(RBC_arr).T\n",
    "RBC_mean = np.mean(RBC_arr, axis = 1)[np.newaxis]\n",
    "RBC_centered = RBC_arr - RBC_mean.T\n",
    "RBC_norm = np.linalg.norm(RBC_centered, axis = 1)[np.newaxis]\n",
    "RBC_normalized = RBC_centered/RBC_norm.T\n",
    "\n",
    "U, S, V = np.linalg.svd(RBC_normalized)\n",
    "\n",
    "S_total = np.linalg.norm(S)**2\n",
    "S_incr = 0\n",
    "k = 0\n",
    "for s in S:\n",
    "    S_incr += s**2\n",
    "    if(S_incr >= 0.95*S_total):\n",
    "        break\n",
    "    k += 1\n",
    "    \n",
    "\n"
   ]
  },
  {
   "cell_type": "code",
   "execution_count": null,
   "metadata": {},
   "outputs": [],
   "source": [
    "#Principle components\n",
    "U_k = []\n",
    "for i in range(k):\n",
    "    U_k.append(U[:, i])\n",
    "    \n",
    "U_k = np.asarray(U_k)   \n",
    "RBC_tilta = []\n",
    "for RBC in RBC_normalized.T:\n",
    "    RBC_tilta.append(list(map(lambda x:np.inner(x, RBC), U_k.tolist())))\n",
    "\n",
    "\n"
   ]
  },
  {
   "cell_type": "code",
   "execution_count": null,
   "metadata": {},
   "outputs": [],
   "source": [
    "RBC_tilta_list = co\n",
    "\n",
    "\n",
    "\n",
    "\n",
    "fig = plt.figure()\n",
    "ax = fig.add_subplot(111)\n",
    "\n"
   ]
  },
  {
   "cell_type": "code",
   "execution_count": 92,
   "metadata": {},
   "outputs": [
    {
     "name": "stdout",
     "output_type": "stream",
     "text": [
      "(112, 4800)\n",
      "(4800, 3852)\n"
     ]
    }
   ],
   "source": [
    "print(U_k.shape)\n",
    "print(RBC_normalized.shape)\n",
    "A = np.array([[1,2, 3],[3,2, 5]])\n",
    "B = np.array([5,1])\n",
    "np.inner(A, B)"
   ]
  },
  {
   "cell_type": "code",
   "execution_count": 83,
   "metadata": {},
   "outputs": [
    {
     "data": {
      "image/png": "[encoded data removed]",
      "text/plain": [
       "<Figure size 432x288 with 1 Axes>"
      ]
     },
     "metadata": {
      "needs_background": "light"
     },
     "output_type": "display_data"
    }
   ],
   "source": [
    "fig = plt.figure()\n",
    "ax = fig.add_subplot(111)\n",
    "ax.scatter(range(len(S)), S)\n",
    "plt.show()"
   ]
  },
  {
   "cell_type": "code",
   "execution_count": 69,
   "metadata": {},
   "outputs": [
    {
     "name": "stdout",
     "output_type": "stream",
     "text": [
      "(3852, 4800)\n"
     ]
    },
    {
     "data": {
      "text/plain": [
       "2"
      ]
     },
     "execution_count": 69,
     "metadata": {},
     "output_type": "execute_result"
    }
   ],
   "source": [
    "print(RBC_normalized.shape)\n",
    "np.argmax(label_arr)\n",
    "label_arr[2]"
   ]
  },
  {
   "cell_type": "code",
   "execution_count": 31,
   "metadata": {},
   "outputs": [
    {
     "ename": "ValueError",
     "evalue": "operands could not be broadcast together with shapes (366,921600) (1,366) ",
     "output_type": "error",
     "traceback": [
      "\u001b[1;31m---------------------------------------------------------------------------\u001b[0m",
      "\u001b[1;31mValueError\u001b[0m                                Traceback (most recent call last)",
      "\u001b[1;32m<ipython-input-31-d19bfdadbfe8>\u001b[0m in \u001b[0;36m<module>\u001b[1;34m()\u001b[0m\n\u001b[0;32m      1\u001b[0m \u001b[0mRBC_norm\u001b[0m \u001b[1;33m=\u001b[0m \u001b[0mnp\u001b[0m\u001b[1;33m.\u001b[0m\u001b[0mlinalg\u001b[0m\u001b[1;33m.\u001b[0m\u001b[0mnorm\u001b[0m\u001b[1;33m(\u001b[0m\u001b[0mRBC_centered\u001b[0m\u001b[1;33m,\u001b[0m \u001b[0maxis\u001b[0m \u001b[1;33m=\u001b[0m \u001b[1;36m1\u001b[0m\u001b[1;33m)\u001b[0m\u001b[1;33m[\u001b[0m\u001b[0mnp\u001b[0m\u001b[1;33m.\u001b[0m\u001b[0mnewaxis\u001b[0m\u001b[1;33m]\u001b[0m\u001b[1;33m\u001b[0m\u001b[0m\n\u001b[1;32m----> 2\u001b[1;33m \u001b[0mRBC_normalized\u001b[0m \u001b[1;33m=\u001b[0m \u001b[0mRBC_centered\u001b[0m\u001b[1;33m/\u001b[0m\u001b[0mRBC_norm\u001b[0m\u001b[1;33m\u001b[0m\u001b[0m\n\u001b[0m",
      "\u001b[1;31mValueError\u001b[0m: operands could not be broadcast together with shapes (366,921600) (1,366) "
     ]
    }
   ],
   "source": [
    "RBC_norm = np.linalg.norm(RBC_centered, axis = 1)[np.newaxis]\n",
    "RBC_normalized = RBC_centered/RBC_norm.T"
   ]
  },
  {
   "cell_type": "code",
   "execution_count": 26,
   "metadata": {},
   "outputs": [
    {
     "name": "stdout",
     "output_type": "stream",
     "text": [
      "[7. 8. 8. 7. 8. 7. 8. 8. 7. 7. 8. 8. 7. 8. 7. 8. 8. 7.]\n"
     ]
    }
   ],
   "source": [
    "len(RBC_arr)\n",
    "A = [[[1,2,3],[2,3,2],[3,4,3]],[[11,12,13],[12,13,12],[13,14,13]]]\n",
    "A_vec = np.reshape(A, -1)  \n",
    "B_vec = np.flip(A_vec)\n",
    "A_centered = np.mean(np.asarray([A_vec, B_vec]), axis = 0)\n",
    "print(A_centered)"
   ]
  },
  {
   "cell_type": "code",
   "execution_count": 12,
   "metadata": {},
   "outputs": [
    {
     "name": "stdout",
     "output_type": "stream",
     "text": [
      "[[[143 154 176]\n",
      "  [143 154 176]\n",
      "  [145 153 176]\n",
      "  ...\n",
      "  [203 197 190]\n",
      "  [201 195 188]\n",
      "  [199 193 186]]\n",
      "\n",
      " [[143 154 176]\n",
      "  [143 154 176]\n",
      "  [145 153 176]\n",
      "  ...\n",
      "  [203 197 190]\n",
      "  [201 195 188]\n",
      "  [199 193 186]]\n",
      "\n",
      " [[141 155 174]\n",
      "  [141 155 174]\n",
      "  [143 154 174]\n",
      "  ...\n",
      "  [201 198 190]\n",
      "  [199 196 188]\n",
      "  [197 194 186]]\n",
      "\n",
      " ...\n",
      "\n",
      " [[206 205 207]\n",
      "  [201 203 204]\n",
      "  [197 198 202]\n",
      "  ...\n",
      "  [185 124 162]\n",
      "  [191 125 166]\n",
      "  [197 131 172]]\n",
      "\n",
      " [[209 206 208]\n",
      "  [204 203 205]\n",
      "  [198 197 201]\n",
      "  ...\n",
      "  [184 121 161]\n",
      "  [191 123 164]\n",
      "  [196 128 169]]\n",
      "\n",
      " [[210 207 209]\n",
      "  [206 203 205]\n",
      "  [197 196 200]\n",
      "  ...\n",
      "  [183 120 160]\n",
      "  [190 122 163]\n",
      "  [197 127 168]]]\n"
     ]
    }
   ],
   "source": [
    "print(RBC_arr[0])"
   ]
  },
  {
   "cell_type": "code",
   "execution_count": 23,
   "metadata": {},
   "outputs": [],
   "source": [
    "img = RBC_arr[0]\n",
    "\n",
    "def crop_and_resize(img, bound, size):\n",
    "    \n",
    "    xmin, ymin, xmax, ymax = bound\n",
    "    w, h = size\n",
    "    \n",
    "    img_crop = img[ymin:ymax,xmin:xmax]\n",
    "    #cv2.resize(img,None,fx=2, fy=2, interpolation = cv2.INTER_CUBIC)\n",
    "    img_resized = cv2.resize(img_crop,(w, h), interpolation = cv2.INTER_CUBIC)\n",
    "    return img_resized\n",
    "    \n",
    "img_resized = crop_and_resize(img, (100, 50, 250, 200), (100, 100))\n",
    "cv2.imshow('img', img_resized)\n",
    "cv2.waitKey(0)\n",
    "cv2.destroyAllWindows()"
   ]
  }
 ],
 "metadata": {
  "kernelspec": {
   "display_name": "Python 3",
   "language": "python",
   "name": "python3"
  },
  "language_info": {
   "codemirror_mode": {
    "name": "ipython",
    "version": 3
   },
   "file_extension": ".py",
   "mimetype": "text/x-python",
   "name": "python",
   "nbconvert_exporter": "python",
   "pygments_lexer": "ipython3",
   "version": "3.6.6"
  }
 },
 "nbformat": 4,
 "nbformat_minor": 2
}
